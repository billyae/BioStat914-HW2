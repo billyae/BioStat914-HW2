{
 "cells": [
  {
   "cell_type": "markdown",
   "metadata": {},
   "source": [
    "## Load Requirements"
   ]
  },
  {
   "cell_type": "code",
   "execution_count": 2,
   "metadata": {},
   "outputs": [],
   "source": [
    "import numpy as np\n"
   ]
  },
  {
   "cell_type": "markdown",
   "metadata": {},
   "source": [
    "## 1.2 SVD for a Noisy Matrix\n"
   ]
  },
  {
   "cell_type": "markdown",
   "metadata": {},
   "source": [
    "#### Matrix Generation"
   ]
  },
  {
   "cell_type": "code",
   "execution_count": 3,
   "metadata": {},
   "outputs": [
    {
     "name": "stdout",
     "output_type": "stream",
     "text": [
      "The matrix Shape: (100, 50)\n"
     ]
    }
   ],
   "source": [
    "# Generate the matrix\n",
    "\n",
    "N,M = 100,50\n",
    "\n",
    "# Form 2 random vectors\n",
    "u=np.random.rand(N,1)\n",
    "v=np.random.rand(M,1)\n",
    "\n",
    "# Compute the rank-1 matrix using outer product\n",
    "R_1 = u @ v.T\n",
    "\n",
    "# Calculate the Frobenius norm of this matrix\n",
    "R_f = np.linalg.norm(R_1, 'fro')\n",
    "\n",
    "noise_variance = 0.01 * R_f\n",
    "\n",
    "noise = np.random.normal(0, np.sqrt(noise_variance), (N,M)) \n",
    "\n",
    "R_ = R_1 + noise\n",
    "\n",
    "# Display the shape of the matrix\n",
    "\n",
    "print(\"The matrix Shape:\", R_.shape)\n"
   ]
  },
  {
   "cell_type": "markdown",
   "metadata": {},
   "source": [
    "#### SVD Decomposition"
   ]
  },
  {
   "cell_type": "code",
   "execution_count": 4,
   "metadata": {},
   "outputs": [
    {
     "name": "stdout",
     "output_type": "stream",
     "text": [
      "U Shape: (100, 50)\n",
      "s Shape: (50,)\n",
      "V Shape: (50, 50)\n"
     ]
    }
   ],
   "source": [
    "# Decompose the matrix using SVD\n",
    "\n",
    "U1, s1, V1 = np.linalg.svd(R_, full_matrices=False)\n",
    "\n",
    "print(\"U Shape:\", U1.shape)\n",
    "\n",
    "print(\"s Shape:\", s1.shape)\n",
    "\n",
    "print(\"V Shape:\", V1.shape)\n"
   ]
  },
  {
   "cell_type": "markdown",
   "metadata": {},
   "source": [
    "#### Matrix Reconstruction"
   ]
  },
  {
   "cell_type": "code",
   "execution_count": 5,
   "metadata": {},
   "outputs": [],
   "source": [
    "# Reconstruct the matrix R using only the first singular value and the corresponidng singular vectors\n",
    "\n",
    "R_reconstructed = s1[0] * np.outer(U1[:,0], V1[0,:])"
   ]
  },
  {
   "cell_type": "markdown",
   "metadata": {},
   "source": [
    "#### Analysis"
   ]
  },
  {
   "cell_type": "code",
   "execution_count": 6,
   "metadata": {},
   "outputs": [
    {
     "name": "stdout",
     "output_type": "stream",
     "text": [
      "U_original Shape: [[-0.10521974 -0.6346124   0.00112294 ...  0.00206341  0.01331492\n",
      "   0.7618841 ]\n",
      " [-0.13861847  0.20747591 -0.18305618 ... -0.01181888  0.0178605\n",
      "   0.14105739]\n",
      " [-0.15887453  0.06574152 -0.09912153 ... -0.14036694  0.10980459\n",
      "   0.03090417]\n",
      " ...\n",
      " [-0.08411381 -0.0355776  -0.1358308  ... -0.06807754  0.07066409\n",
      "  -0.03715925]\n",
      " [-0.16127616 -0.15535323  0.22973697 ... -0.0978399  -0.13040718\n",
      "  -0.16290188]\n",
      " [-0.13713326  0.09620068  0.11712698 ...  0.08462935  0.07744235\n",
      "   0.0911559 ]]\n",
      "s_original Shape: [2.37727461e+01 2.37478589e-15 2.37478589e-15 2.37478589e-15\n",
      " 2.37478589e-15 2.37478589e-15 2.37478589e-15 2.37478589e-15\n",
      " 2.37478589e-15 2.37478589e-15 2.37478589e-15 2.37478589e-15\n",
      " 2.37478589e-15 2.37478589e-15 2.37478589e-15 2.37478589e-15\n",
      " 2.37478589e-15 2.37478589e-15 2.37478589e-15 2.37478589e-15\n",
      " 2.37478589e-15 2.37478589e-15 2.37478589e-15 2.37478589e-15\n",
      " 2.37478589e-15 2.37478589e-15 2.37478589e-15 2.37478589e-15\n",
      " 2.37478589e-15 2.37478589e-15 2.37478589e-15 2.37478589e-15\n",
      " 2.37478589e-15 2.37478589e-15 2.37478589e-15 2.37478589e-15\n",
      " 2.37478589e-15 2.37478589e-15 2.37478589e-15 2.37478589e-15\n",
      " 2.37478589e-15 2.37478589e-15 2.37478589e-15 2.37478589e-15\n",
      " 2.37478589e-15 2.37478589e-15 2.37478589e-15 2.37478589e-15\n",
      " 2.37478589e-15 5.32336278e-17]\n",
      "V_original Shape: [[-0.02226065 -0.06034527 -0.21484561 ... -0.09088162 -0.04854838\n",
      "  -0.05496367]\n",
      " [ 0.          0.04766745 -0.36830982 ...  0.16215536  0.04263859\n",
      "   0.02078822]\n",
      " [ 0.          0.0419403   0.2375688  ...  0.03599452  0.02891094\n",
      "  -0.02915535]\n",
      " ...\n",
      " [ 0.         -0.02636757  0.00634137 ... -0.00321643  0.01538615\n",
      "  -0.07123323]\n",
      " [ 0.          0.03548091  0.01460351 ...  0.01637143 -0.01810053\n",
      "   0.07137696]\n",
      " [-0.9997522   0.00134366  0.00478379 ...  0.00202358  0.00108099\n",
      "   0.00122383]]\n"
     ]
    }
   ],
   "source": [
    "# calculate and output the original values of U and V\n",
    "\n",
    "U_orginal, s_original, V_original = np.linalg.svd(R_1, full_matrices=False)\n",
    "\n",
    "print(\"U_original Shape:\", U_orginal)\n",
    "\n",
    "print(\"s_original Shape:\", s_original)\n",
    "\n",
    "print(\"V_original Shape:\", V_original)"
   ]
  },
  {
   "cell_type": "code",
   "execution_count": 7,
   "metadata": {},
   "outputs": [
    {
     "name": "stdout",
     "output_type": "stream",
     "text": [
      "Reconstructed U: [[-0.08164613 -0.23046765 -0.01585294 ...  0.00649749 -0.00430998\n",
      "  -0.96280773]\n",
      " [-0.13862972 -0.00972843 -0.09965636 ... -0.15102103 -0.00384195\n",
      "   0.00458761]\n",
      " [-0.17395338  0.25801721 -0.04398593 ...  0.05712565  0.05736543\n",
      "  -0.02172936]\n",
      " ...\n",
      " [-0.07476407  0.10726693  0.16526031 ...  0.16723243 -0.16757081\n",
      "  -0.01971296]\n",
      " [-0.17141457  0.1180482  -0.21333445 ... -0.0077754   0.01646208\n",
      "  -0.02464278]\n",
      " [-0.12932091 -0.25386684  0.06898104 ...  0.05666424  0.03432887\n",
      "   0.05346932]]\n",
      "Reconstructed V: [[-0.0437993  -0.03562296 -0.23843968 ... -0.09646322 -0.06064143\n",
      "  -0.03270877]\n",
      " [ 0.          0.06825133  0.0081277  ...  0.15759914  0.07625271\n",
      "  -0.0072758 ]\n",
      " [ 0.          0.0627998   0.20669141 ... -0.0167356   0.07997076\n",
      "   0.00180013]\n",
      " ...\n",
      " [ 0.         -0.36404679 -0.02948132 ... -0.04156682  0.02617457\n",
      "   0.31688158]\n",
      " [ 0.         -0.15966095 -0.00180538 ...  0.03163339 -0.07859181\n",
      "  -0.03873101]\n",
      " [-0.99904035  0.00156176  0.01045352 ...  0.00422908  0.0026586\n",
      "   0.001434  ]]\n",
      "Reconstructed s: [2.45062672e+01 2.44631812e-15 2.44631812e-15 2.44631812e-15\n",
      " 2.44631812e-15 2.44631812e-15 2.44631812e-15 2.44631812e-15\n",
      " 2.44631812e-15 2.44631812e-15 2.44631812e-15 2.44631812e-15\n",
      " 2.44631812e-15 2.44631812e-15 2.44631812e-15 2.44631812e-15\n",
      " 2.44631812e-15 2.44631812e-15 2.44631812e-15 2.44631812e-15\n",
      " 2.44631812e-15 2.44631812e-15 2.44631812e-15 2.44631812e-15\n",
      " 2.44631812e-15 2.44631812e-15 2.44631812e-15 2.44631812e-15\n",
      " 2.44631812e-15 2.44631812e-15 2.44631812e-15 2.44631812e-15\n",
      " 2.44631812e-15 2.44631812e-15 2.44631812e-15 2.44631812e-15\n",
      " 2.44631812e-15 2.44631812e-15 2.44631812e-15 2.44631812e-15\n",
      " 2.44631812e-15 2.44631812e-15 2.44631812e-15 2.44631812e-15\n",
      " 2.44631812e-15 2.44631812e-15 2.44631812e-15 2.44631812e-15\n",
      " 2.44631812e-15 3.24639009e-16]\n"
     ]
    }
   ],
   "source": [
    "# calculate and output the Reconstructed values of U and V\n",
    "\n",
    "U_reconstructed, s_constructed, V_reconstructed = np.linalg.svd(R_reconstructed, full_matrices=False)\n",
    "\n",
    "print(\"Reconstructed U:\", U_reconstructed)\n",
    "\n",
    "print(\"Reconstructed V:\", V_reconstructed)\n",
    "\n",
    "print(\"Reconstructed s:\", s_constructed)"
   ]
  },
  {
   "cell_type": "code",
   "execution_count": 8,
   "metadata": {},
   "outputs": [
    {
     "name": "stdout",
     "output_type": "stream",
     "text": [
      "RMSE: 0.07999243907684757\n",
      "RMSE_U: 0.14167936195588504\n",
      "RMSE_V: 0.19499051993250902\n"
     ]
    }
   ],
   "source": [
    "# Computer the Root Mean Squared Error between the original matrix R and the reconstructed matrix R_reconstructed \n",
    "\n",
    "RMSE = np.sqrt(np.mean((R_1 - R_reconstructed)**2))\n",
    "\n",
    "print(\"RMSE:\", RMSE)\n",
    "\n",
    "# Compute the Root Mean Squared Errors of U and V \n",
    "# From the value of U_original, V_original and U_reconstructed, V_reconstructed, there is no need to adjust the sign of the singular vectors when calculating the RMSE\n",
    "\n",
    "RMSE_U = np.sqrt(np.mean((U_orginal - U_reconstructed)**2))\n",
    "\n",
    "RMSE_V = np.sqrt(np.mean((V_original- V_reconstructed)**2))\n",
    "\n",
    "print(\"RMSE_U:\", RMSE_U)\n",
    "print(\"RMSE_V:\", RMSE_V)"
   ]
  },
  {
   "cell_type": "markdown",
   "metadata": {},
   "source": [
    "**The impact of noise:**\n",
    "\n",
    "1. Effect on the Matrix Reconstruction: The RMSE for the reconstructed matrix is pretty small, indicating that the reconstruction closely approximates the original matrix despite the added noise. This is potentially because the reconstruction uses only the first singular value and the corresponding singular vectors, which contains most information of the matrix. This filters out higher-order singular values, which captures a portion of the noise, reducing the effect of noise on the reconstructed matrix.  \n",
    "2. Effect on the Singular Vectors: The RMSE for the singular vectors suggests that the noise has introduced some discrepancy between the original and reconstructed singular vectors. Singular vectors associated with significant singular values are typically less affected by noise because they represent more prominent structural components of the matrix. But the loss indicates that noise might alter the direction slightly, resulting the overall discrepancies. \n"
   ]
  },
  {
   "cell_type": "markdown",
   "metadata": {},
   "source": [
    "## 1.3 Matrix Factorization of an Imcomplete Matrix"
   ]
  },
  {
   "cell_type": "markdown",
   "metadata": {},
   "source": [
    "#### Matrix Generation"
   ]
  },
  {
   "cell_type": "code",
   "execution_count": 9,
   "metadata": {},
   "outputs": [],
   "source": [
    "# Generate the Matrix \n",
    "\n",
    "# Calculate the total number of elements and 30% of that\n",
    "total_elements = N * M\n",
    "num_missing = int(0.3 * total_elements)\n",
    "\n",
    "# Randomly select indices to set as missing\n",
    "missing_indices = np.unravel_index(\n",
    "    np.random.choice(total_elements, num_missing, replace=False), (N, M)\n",
    ")\n",
    "\n",
    "# Create a copy of the original matrix and set the missing values to nan\n",
    "\n",
    "R_missing = np.copy(R_1)\n",
    "\n",
    "R_missing[missing_indices] = np.nan\n",
    "\n"
   ]
  },
  {
   "cell_type": "markdown",
   "metadata": {},
   "source": [
    "#### Matrix Factorization"
   ]
  },
  {
   "cell_type": "code",
   "execution_count": 10,
   "metadata": {},
   "outputs": [
    {
     "name": "stdout",
     "output_type": "stream",
     "text": [
      "Epoch: 0 Loss: 275.0244727928758\n",
      "Epoch: 10 Loss: 29.06756786719892\n",
      "Epoch: 20 Loss: 3.335253914933026\n",
      "Epoch: 30 Loss: 0.4193239381646615\n",
      "Epoch: 40 Loss: 0.05669088025885562\n",
      "Epoch: 50 Loss: 0.008184705309017996\n",
      "Epoch: 60 Loss: 0.001253506591900327\n",
      "Epoch: 70 Loss: 0.00020223366775713373\n",
      "Epoch: 80 Loss: 3.413408977509161e-05\n",
      "Epoch: 90 Loss: 5.988720286349705e-06\n",
      "Epoch: 100 Loss: 1.0859074639078807e-06\n",
      "Epoch: 110 Loss: 2.0249057950748427e-07\n",
      "Epoch: 120 Loss: 3.866705342451057e-08\n",
      "Epoch: 130 Loss: 7.534794294973074e-09\n",
      "Epoch: 140 Loss: 1.4939033548039577e-09\n",
      "Epoch: 150 Loss: 3.0063230977210334e-10\n",
      "Epoch: 160 Loss: 6.128137027320058e-11\n",
      "Epoch: 170 Loss: 1.2631719656974861e-11\n",
      "Epoch: 180 Loss: 2.6291571824665968e-12\n",
      "Epoch: 190 Loss: 5.519064792730418e-13\n"
     ]
    }
   ],
   "source": [
    "# SGD for matrix factorization\n",
    "\n",
    "def SGD_factorization(learning_rate, regularization, num_epochs, R_missing, output):\n",
    "\n",
    "    U_factorized = np.random.rand(N,1)\n",
    "    V_factorized = np.random.rand(M,1) # initialze the U and V matrices\n",
    "\n",
    "    for epoch in range(num_epochs):\n",
    "\n",
    "        for i in range(N):\n",
    "            for j in range(M):\n",
    "                \n",
    "                # Only consider the observed values\n",
    "                if not np.isnan(R_missing[i,j]):\n",
    "\n",
    "                    prediction = np.dot(U_factorized[i], V_factorized[j])\n",
    "                    error = R_missing[i,j] - prediction\n",
    "\n",
    "                    # Update the U and V matrices\n",
    "                    U_factorized[i] += learning_rate * (error * V_factorized[j] - regularization * U_factorized[i])\n",
    "                    V_factorized[j] += learning_rate * (error * U_factorized[i] - regularization * V_factorized[j]) \n",
    "                    \n",
    "        if output:\n",
    "            if epoch % 10 == 0:\n",
    "            \n",
    "                # Calculatre the total loss on observed entrices\n",
    "                observed_indices = ~np.isnan(R_missing)\n",
    "                loss = np.sum((R_missing[observed_indices] - (U_factorized @ V_factorized.T)[observed_indices])**2)\n",
    "                print(\"Epoch:\", epoch, \"Loss:\", loss)\n",
    "    \n",
    "    return U_factorized, V_factorized\n",
    "\n",
    "U_factorized,V_factorized = SGD_factorization(0.01, 0, 200, R_missing,True)"
   ]
  },
  {
   "cell_type": "markdown",
   "metadata": {},
   "source": [
    "#### Missing Data Imputation"
   ]
  },
  {
   "cell_type": "code",
   "execution_count": 11,
   "metadata": {},
   "outputs": [],
   "source": [
    "# Use the factorized matrices U and V to reconstruct the matrix R\n",
    "\n",
    "R_reconstructed_missing = U_factorized @ V_factorized.T\n",
    "\n"
   ]
  },
  {
   "cell_type": "markdown",
   "metadata": {},
   "source": [
    "#### Analysis"
   ]
  },
  {
   "cell_type": "code",
   "execution_count": 12,
   "metadata": {},
   "outputs": [
    {
     "name": "stdout",
     "output_type": "stream",
     "text": [
      "RMSE_missing: 7.478288682130052e-09\n"
     ]
    }
   ],
   "source": [
    "# Compute the RMSE between the original matrix R and the reconstructed matrix R_reconstructed\n",
    "\n",
    "RMSE_missing = np.sqrt(np.mean((R_1 - R_reconstructed_missing)**2))\n",
    "\n",
    "print(\"RMSE_missing:\", RMSE_missing)"
   ]
  },
  {
   "cell_type": "code",
   "execution_count": 13,
   "metadata": {},
   "outputs": [
    {
     "name": "stdout",
     "output_type": "stream",
     "text": [
      "******* Missing Proportion: 0.1 ********\n",
      "RMSE of recoverd matrix: 1.9803661052093288e-15\n",
      "******* Missing Proportion: 0.2 ********\n",
      "RMSE of recoverd matrix: 1.5338138003464492e-15\n"
     ]
    }
   ],
   "source": [
    "# Discuss other missing proportions for data generation and discuss their impacts in the reconstruction process\n",
    "\n",
    "# missing protions from 0.1 to 0.9\n",
    "\n",
    "missing_proportions = [0.1*i for i in range(1,10)]\n",
    "\n",
    "missing_proportions.extend([0.95,0.97,0.99])\n",
    "\n",
    "for missing_proportion in missing_proportions:\n",
    "\n",
    "    num_missing = int(missing_proportion * total_elements)\n",
    "\n",
    "    missing_indices = np.unravel_index(\n",
    "        np.random.choice(total_elements, num_missing, replace=False), (N, M)\n",
    "    )\n",
    "\n",
    "    R_missing = np.copy(R_1)\n",
    "    \n",
    "    R_missing[missing_indices] = np.nan\n",
    "\n",
    "    U_factorized,V_factorized = SGD_factorization(0.01, 0,1000, R_missing,False)\n",
    "\n",
    "    R_reconstructed_missing = U_factorized @ V_factorized.T\n",
    "\n",
    "    RMSE_missing = np.sqrt(np.mean((R_1 - R_reconstructed_missing)**2))\n",
    "\n",
    "    print(\"******* Missing Proportion:\", round(missing_proportion,2),\"********\")\n",
    "    print(\"RMSE of recoverd matrix:\", RMSE_missing)\n",
    "\n"
   ]
  },
  {
   "cell_type": "markdown",
   "metadata": {},
   "source": [
    "**Discussion impact of the missing value proportion on reconstructed matrix**: \n",
    "\n",
    "1. For the low and moderate missing value proportion such as 10% - 70%, the RMSE is very low, indicating that the factorization can approximate the missing value and the observed value accurately.  \n",
    "2. For the very high missing proportion such as 80% - 99%, the RMSE continues to increase. For the missing value proportion above 90%, the discrepancy of original and reconstructed matrix is notable, indicating the matrix factorization struggles to impute the missing value of the matrix when the matrix is extremely sparse.\n"
   ]
  },
  {
   "cell_type": "code",
   "execution_count": null,
   "metadata": {},
   "outputs": [
    {
     "name": "stdout",
     "output_type": "stream",
     "text": [
      "******* Singular Number: 1 ********\n",
      "RMSE_reconstruction: 0.17942279666318597\n",
      "******* Singular Number: 2 ********\n",
      "RMSE_reconstruction: 0.1662126903557679\n",
      "******* Singular Number: 3 ********\n",
      "RMSE_reconstruction: 0.15369056682766777\n",
      "******* Singular Number: 4 ********\n",
      "RMSE_reconstruction: 0.1403840365385495\n",
      "******* Singular Number: 5 ********\n",
      "RMSE_reconstruction: 0.12667487566391875\n",
      "******* Singular Number: 6 ********\n",
      "RMSE_reconstruction: 0.11196449985081135\n",
      "******* Singular Number: 7 ********\n",
      "RMSE_reconstruction: 0.09623198057062363\n",
      "******* Singular Number: 8 ********\n",
      "RMSE_reconstruction: 0.0777436333897794\n",
      "******* Singular Number: 9 ********\n",
      "RMSE_reconstruction: 0.05461470473860565\n",
      "******* Singular Number: 10 ********\n",
      "RMSE_reconstruction: 6.705351340375311e-16\n",
      "******* Singular Number: 20 ********\n",
      "RMSE_reconstruction: 6.824197241619624e-16\n",
      "******* Singular Number: 30 ********\n",
      "RMSE_reconstruction: 6.939150368551093e-16\n",
      "******* Singular Number: 40 ********\n",
      "RMSE_reconstruction: 7.048432124738406e-16\n",
      "******* Singular Number: 50 ********\n",
      "RMSE_reconstruction: 7.16858702762589e-16\n"
     ]
    }
   ],
   "source": [
    "# Generate Matrix with Rank 10\n",
    "\n",
    "N,M = 100,50\n",
    "\n",
    "full_rank_matrix = np.random.rand(N, M)\n",
    "    \n",
    "# Perform SVD decomposition\n",
    "U_10, s_10, Vt_10 = np.linalg.svd(full_rank_matrix, full_matrices=False)\n",
    "\n",
    "# Keep only the top `rank` singular values\n",
    "s_10[10:] = 0\n",
    "    \n",
    "# Reconstruct the matrix\n",
    "\n",
    "R_10 = U_10 @ np.diag(s_10) @ Vt_10\n",
    "\n",
    "# choose a moderate missing data proportions\n",
    "num_missing = int(0.3 * total_elements)\n",
    "\n",
    "missing_indices = np.unravel_index(\n",
    "    np.random.choice(total_elements, num_missing, replace=False), (N, M)\n",
    ")\n",
    "\n",
    "R_missing_10 = np.copy(R_10)\n",
    "\n",
    "R_missing_10[missing_indices] = np.nan\n",
    "\n",
    "# decompose the matrix using different number of singular components\n",
    "\n",
    "singular_components = [1,2,3,4,5,6,7,8,9,10, 20, 30, 40, 50]\n",
    "\n",
    "for K in singular_components:\n",
    "\n",
    "    U_reconstructed, s_constructed, V_reconstructed = np.linalg.svd(R_10, full_matrices=False)\n",
    "    \n",
    "    s_constructed[K:] = 0\n",
    "\n",
    "    R_reconstructed_k = U_reconstructed @ np.diag(s_constructed) @ V_reconstructed\n",
    "\n",
    "    RMSE_missing = np.sqrt(np.mean((R_10 - R_reconstructed_k)**2))\n",
    "\n",
    "    print(\"******* Singular Number:\", K ,\"********\")\n",
    "    print(\"RMSE of recovered matrix:\", RMSE_missing)\n",
    "    "
   ]
  },
  {
   "cell_type": "markdown",
   "metadata": {},
   "source": [
    "**Discussion**:   \n",
    "I use the a rank-10 matrix with 30% missing values.\n",
    "1. For the number of singular components smaller than or equal to the Rank of the matrix. As the number of singular components increases, the reconstruction effect increases because for the kth singular compoents (k<=10), the singular components contain part information of the matrix. And the MSE becomes very small as the number of singualr components is equal to the Rank of the matrix because we use nearly all useful information to reconstruct the matrix.  \n",
    "2. For the number of singular values bigger than the Rank of the matrix. As the number of singular value increases, the reconstruction effect remains stable because singular values after the 10th are quite small so there is little information in those singular components of the matrix. So there is no improvements for reconstruction using k th singular components (k>10).  "
   ]
  },
  {
   "cell_type": "markdown",
   "metadata": {},
   "source": [
    "## 1.4 Matrix Factorization with Regularization"
   ]
  },
  {
   "cell_type": "markdown",
   "metadata": {},
   "source": [
    "#### Generate Matrix"
   ]
  },
  {
   "cell_type": "code",
   "execution_count": null,
   "metadata": {},
   "outputs": [],
   "source": [
    "# Calculate the total number of elements and 30% of that\n",
    "total_elements = N * M\n",
    "\n",
    "num_missing = int(0.8 * total_elements)\n",
    "\n",
    "# Randomly select indices to set as missing\n",
    "missing_indices = np.unravel_index(\n",
    "    np.random.choice(total_elements, num_missing, replace=False), (N, M)\n",
    ")\n",
    "\n",
    "# Create a copy of the original matrix and set the missing values to nan\n",
    "\n",
    "R_missing = np.copy(R_1)\n",
    "\n",
    "R_missing[missing_indices] = np.nan"
   ]
  },
  {
   "cell_type": "code",
   "execution_count": null,
   "metadata": {},
   "outputs": [
    {
     "data": {
      "text/plain": [
       "np.int64(4000)"
      ]
     },
     "execution_count": 168,
     "metadata": {},
     "output_type": "execute_result"
    }
   ],
   "source": [
    "np.isnan(R_missing).sum()"
   ]
  },
  {
   "cell_type": "markdown",
   "metadata": {},
   "source": [
    "#### Rank-one factorization using regularization\n",
    "\n"
   ]
  },
  {
   "cell_type": "code",
   "execution_count": null,
   "metadata": {},
   "outputs": [
    {
     "name": "stdout",
     "output_type": "stream",
     "text": [
      "R_reconstrcuion [[0.32687131 0.14381702 0.22890687 ... 0.27526085 0.07955473 0.31757722]\n",
      " [0.19604535 0.08625614 0.13728989 ... 0.1650913  0.04771399 0.19047109]\n",
      " [0.27677472 0.12177549 0.19382439 ... 0.23307412 0.0673621  0.26890504]\n",
      " ...\n",
      " [0.58900421 0.25915039 0.41247764 ... 0.49600497 0.14335326 0.57225675]\n",
      " [0.42631139 0.18756871 0.29854442 ... 0.3590001  0.10375669 0.41418987]\n",
      " [0.0439268  0.01932694 0.03076179 ... 0.0369911  0.01069101 0.04267781]]\n",
      "R_original [[0.32687641 0.14381722 0.22890861 ... 0.27525951 0.07955329 0.31758503]\n",
      " [0.19605098 0.0862574  0.13729274 ... 0.16509266 0.04771375 0.19047828]\n",
      " [0.27678239 0.12177714 0.19382821 ... 0.23307581 0.0673617  0.26891492]\n",
      " ...\n",
      " [0.58903166 0.2591588  0.41249356 ... 0.49601794 0.14335512 0.57228856]\n",
      " [0.42633888 0.18757815 0.29856128 ... 0.35901591 0.10375989 0.41422029]\n",
      " [0.04392812 0.01932724 0.03076246 ... 0.03699145 0.01069097 0.04267947]]\n",
      "RMSE_missing: 1.9990277827520853e-05\n"
     ]
    }
   ],
   "source": [
    "# The result of Rank-one factorization using regularization\n",
    "\n",
    "# set regularization to 0.1 as an example\n",
    "\n",
    "U_factorized,V_factorized = SGD_factorization(0.01,1e-5, 1000, R_missing,False)\n",
    "\n",
    "R_reconstructed_missing = U_factorized @ V_factorized.T\n",
    "\n",
    "RMSE_missing = np.sqrt(np.mean((R_1 - R_reconstructed_missing)**2))\n",
    "\n",
    "print(\"R_reconstrcuion\", R_reconstructed_missing)\n",
    "\n",
    "print(\"R_original\",R_1)\n",
    "\n",
    "print(\"RMSE of recovered matrix:\", RMSE_missing)\n"
   ]
  },
  {
   "cell_type": "markdown",
   "metadata": {},
   "source": [
    "#### Discussion the selection of lamda on the reconstruction accuracy"
   ]
  },
  {
   "cell_type": "code",
   "execution_count": null,
   "metadata": {},
   "outputs": [
    {
     "name": "stdout",
     "output_type": "stream",
     "text": [
      "******* Regularization: 0.0 ********\n",
      "RMSE_missing: 1.7295401085124914e-05\n",
      "******* Regularization: 1e-06 ********\n",
      "RMSE_missing: 3.970605958899954e-05\n",
      "******* Regularization: 2e-06 ********\n",
      "RMSE_missing: 1.1413570757640905e-05\n",
      "******* Regularization: 3e-06 ********\n",
      "RMSE_missing: 3.053911236677769e-05\n",
      "******* Regularization: 4e-06 ********\n",
      "RMSE_missing: 1.0385992449091427e-05\n",
      "******* Regularization: 4.9999999999999996e-06 ********\n",
      "RMSE_missing: 1.084148953503658e-05\n",
      "******* Regularization: 6e-06 ********\n",
      "RMSE_missing: 4.53837481536864e-05\n",
      "******* Regularization: 7e-06 ********\n",
      "RMSE_missing: 3.914196535243085e-05\n",
      "******* Regularization: 8e-06 ********\n",
      "RMSE_missing: 3.8189555074555896e-05\n",
      "******* Regularization: 9e-06 ********\n",
      "RMSE_missing: 1.6332794224055282e-05\n",
      "******* Regularization: 9.999999999999999e-06 ********\n",
      "RMSE_missing: 6.885195566661244e-05\n"
     ]
    }
   ],
   "source": [
    "lamda_all= [1e-6* i for i in range(0,11)]\n",
    "\n",
    "for lamda in lamda_all:\n",
    "    \n",
    "    U_factorized,V_factorized = SGD_factorization(0.01, lamda, 1000, R_missing,False)\n",
    "\n",
    "    R_reconstructed_missing = U_factorized @ V_factorized.T\n",
    "\n",
    "    RMSE_missing = np.sqrt(np.mean((R_1 - R_reconstructed_missing)**2))\n",
    "\n",
    "    print(\"******* Regularization:\", lamda ,\"********\")\n",
    "    print(\"RMSE of recovered matrix:\", RMSE_missing)\n",
    "\n",
    "    "
   ]
  },
  {
   "cell_type": "markdown",
   "metadata": {},
   "source": [
    "**Discussion**:  \n",
    "I select lambda from 1e-6 to 1e-5.  \n",
    "1. When the lambda is small, the regularization term has minimal effect, allowing U and V to fit the observed entries of R more closely. This increases the risk of overfitting. When the lambda is below 4e-6, the effect of reconstruction with regularization is similar to the effect of no regularization reconstruction.  \n",
    "2. When the lambda is moderate such as 4e-06 and 5e-06, the regularization term could balance the generalization ability of learning to the observed entries and fittiing performance on the observed entries. So the RMSE is smaller than RMSE without regularization.  \n",
    "3. When the lambda is large, the generalization ability arises but the regularization term dominates the objective function, causing the values in U and V to be smaller in magnitude. So the factorization suffers a underfitting."
   ]
  },
  {
   "cell_type": "markdown",
   "metadata": {},
   "source": [
    "#### Calculate and compare the RMSE"
   ]
  },
  {
   "cell_type": "code",
   "execution_count": null,
   "metadata": {},
   "outputs": [
    {
     "ename": "NameError",
     "evalue": "name 'SGD_factorization' is not defined",
     "output_type": "error",
     "traceback": [
      "\u001b[1;31m---------------------------------------------------------------------------\u001b[0m",
      "\u001b[1;31mNameError\u001b[0m                                 Traceback (most recent call last)",
      "Cell \u001b[1;32mIn[1], line 3\u001b[0m\n\u001b[0;32m      1\u001b[0m \u001b[38;5;66;03m# Calculate the RMSE of the recovere matrix\u001b[39;00m\n\u001b[1;32m----> 3\u001b[0m U_factorized,V_factorized \u001b[38;5;241m=\u001b[39m \u001b[43mSGD_factorization\u001b[49m(\u001b[38;5;241m0.01\u001b[39m,\u001b[38;5;241m1e-5\u001b[39m, \u001b[38;5;241m1000\u001b[39m, R_missing,\u001b[38;5;28;01mFalse\u001b[39;00m)\n\u001b[0;32m      5\u001b[0m R_reconstructed_missing \u001b[38;5;241m=\u001b[39m U_factorized \u001b[38;5;241m@\u001b[39m V_factorized\u001b[38;5;241m.\u001b[39mT\n\u001b[0;32m      7\u001b[0m RMSE_missing \u001b[38;5;241m=\u001b[39m np\u001b[38;5;241m.\u001b[39msqrt(np\u001b[38;5;241m.\u001b[39mmean((R_1 \u001b[38;5;241m-\u001b[39m R_reconstructed_missing)\u001b[38;5;241m*\u001b[39m\u001b[38;5;241m*\u001b[39m\u001b[38;5;241m2\u001b[39m))\n",
      "\u001b[1;31mNameError\u001b[0m: name 'SGD_factorization' is not defined"
     ]
    }
   ],
   "source": [
    "# Calculate the RMSE of the recovere matrix\n",
    "\n",
    "U_factorized,V_factorized = SGD_factorization(0.01,1e-5, 1000, R_missing,False)\n",
    "\n",
    "R_reconstructed_missing = U_factorized @ V_factorized.T\n",
    "\n",
    "RMSE_missing = np.sqrt(np.mean((R_1 - R_reconstructed_missing)**2))\n",
    "\n",
    "print(\"RMSE of the recovered matrix:\", RMSE_missing)\n",
    "\n",
    "print(\"RMSE of the U\", np.sqrt(np.mean((u - U_factorized)**2)))\n",
    "\n",
    "print(\"RMSE of the V\", np.sqrt(np.mean((v - V_factorized)**2)))"
   ]
  }
 ],
 "metadata": {
  "kernelspec": {
   "display_name": "hw2",
   "language": "python",
   "name": "python3"
  },
  "language_info": {
   "codemirror_mode": {
    "name": "ipython",
    "version": 3
   },
   "file_extension": ".py",
   "mimetype": "text/x-python",
   "name": "python",
   "nbconvert_exporter": "python",
   "pygments_lexer": "ipython3",
   "version": "3.11.9"
  }
 },
 "nbformat": 4,
 "nbformat_minor": 2
}
